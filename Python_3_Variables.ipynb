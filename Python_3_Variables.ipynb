{
 "cells": [
  {
   "cell_type": "markdown",
   "id": "4957401d-c856-4827-8eaf-0e243369fca2",
   "metadata": {
    "editable": true,
    "slideshow": {
     "slide_type": ""
    },
    "tags": []
   },
   "source": [
    "Variables in python:\n",
    "1. variables are like containers for storing data values.\n",
    "2. variables names are case-sensitive.\n",
    "3. python has no command for declaring a variable. variable will get created the moment you assign value to it.\n",
    "4. variables can change type after they have been set.\n",
    "5. we can get the type of variable using type() function.\n",
    "\n",
    "Variables Names:\n",
    "1. variable name must start with a letter or the underscore (_) character.\n",
    "2. variable name cannot start with a numbers.\n",
    "3. variable name can only contain alpha-numeric characters and underscores(A-z,0-9,and _)\n",
    "4. variable names are case-sensitive (age,Age and AGE are three different variables)\n",
    "\n",
    "Assign multiple values to variables:\n",
    "* Assign multiple values to multiple variables\n",
    "* one value to multiple variables\n"
   ]
  },
  {
   "cell_type": "code",
   "execution_count": 1,
   "id": "180c4db6-e71c-4933-86d0-8f052046a539",
   "metadata": {},
   "outputs": [
    {
     "name": "stdout",
     "output_type": "stream",
     "text": [
      "<class 'str'>\n",
      "<class 'int'>\n"
     ]
    }
   ],
   "source": [
    "# Examples for variables in python\n",
    "age=24\n",
    "name='venu'\n",
    "print(type(name))\n",
    "print(type(age))"
   ]
  },
  {
   "cell_type": "code",
   "execution_count": 7,
   "id": "7ec56989-2c46-4828-a182-539873b63bf9",
   "metadata": {
    "scrolled": true
   },
   "outputs": [
    {
     "name": "stdout",
     "output_type": "stream",
     "text": [
      "4\n"
     ]
    }
   ],
   "source": [
    "a=2\n",
    "a=4\n",
    "print(a)"
   ]
  },
  {
   "cell_type": "code",
   "execution_count": 3,
   "id": "2acdda25-054b-4957-a493-52e151d1e08c",
   "metadata": {},
   "outputs": [
    {
     "name": "stdout",
     "output_type": "stream",
     "text": [
      "apple\n",
      "banana\n",
      "carrot\n"
     ]
    }
   ],
   "source": [
    "# Assign multiple values to variables:\n",
    "a,b,c='apple','banana','carrot'\n",
    "print(a)\n",
    "print(b)\n",
    "print(c)\n"
   ]
  },
  {
   "cell_type": "code",
   "execution_count": 4,
   "id": "92e838c8-fead-4603-abb5-b5632512f85b",
   "metadata": {},
   "outputs": [
    {
     "name": "stdout",
     "output_type": "stream",
     "text": [
      "fruits\n",
      "fruits\n",
      "fruits\n"
     ]
    }
   ],
   "source": [
    "# one value to multiple variables\n",
    "a=b=c='fruits'\n",
    "print(a)\n",
    "print(b)\n",
    "print(c)"
   ]
  },
  {
   "cell_type": "markdown",
   "id": "1f553cdc-8f61-44a9-9067-f97e8d630c50",
   "metadata": {},
   "source": [
    "## Global variables and Local variables:\n",
    "Local Variables:\n",
    "* local variables that are created inside a function.\n",
    "* local variables can be used inside functions only.\n",
    "\n",
    "Global Variable:\n",
    "* variables that are created outside function known as global variables.\n",
    "* global variables can be used everywhere, both inside and outside function\n",
    "* if we create a variable with same name inside function, still both local and global variable are different, Local variable can be used only with in the function.\n",
    "\n",
    "# Global Keyword:\n",
    "* if you would like to create global variable inside function, we should use 'global keyword'.\n",
    "* to change the value of global variable inside function, use 'global' keyword"
   ]
  },
  {
   "cell_type": "code",
   "execution_count": 10,
   "id": "8230b0e1-0b93-4245-8e27-f044b9935aed",
   "metadata": {},
   "outputs": [
    {
     "name": "stdout",
     "output_type": "stream",
     "text": [
      "swetha\n"
     ]
    }
   ],
   "source": [
    "# Example for Local Variables:\n",
    "def myfun():\n",
    "    x='swetha' \n",
    "    print(x)\n",
    "myfun()"
   ]
  },
  {
   "cell_type": "code",
   "execution_count": 14,
   "id": "16457255-9808-410a-939a-c2c3459628ac",
   "metadata": {
    "editable": true,
    "slideshow": {
     "slide_type": ""
    },
    "tags": []
   },
   "outputs": [
    {
     "name": "stdout",
     "output_type": "stream",
     "text": [
      "swetha\n",
      "venu\n",
      "swetha\n",
      "venu\n"
     ]
    }
   ],
   "source": [
    "# Examples for Global variables\n",
    "#Method:1\n",
    "y='venu'\n",
    "def myfun():\n",
    "    x='swetha' \n",
    "    print(x)\n",
    "myfun()\n",
    "print(y)\n",
    "\n",
    "#Method:2\n",
    "\n",
    "y='venu'\n",
    "def myfun():\n",
    "    x='swetha' \n",
    "    y='siri'\n",
    "    print(x)\n",
    "myfun()\n",
    "print(y)\n",
    "\n",
    "# Example for Global Keyword:\n"
   ]
  }
 ],
 "metadata": {
  "kernelspec": {
   "display_name": "Python 3 (ipykernel)",
   "language": "python",
   "name": "python3"
  },
  "language_info": {
   "codemirror_mode": {
    "name": "ipython",
    "version": 3
   },
   "file_extension": ".py",
   "mimetype": "text/x-python",
   "name": "python",
   "nbconvert_exporter": "python",
   "pygments_lexer": "ipython3",
   "version": "3.12.5"
  }
 },
 "nbformat": 4,
 "nbformat_minor": 5
}
